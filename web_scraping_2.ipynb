{
 "cells": [
  {
   "attachments": {},
   "cell_type": "markdown",
   "metadata": {},
   "source": [
    "# Web Scraping\n",
    "\n",
    "## Top Data Analytics Companies\n",
    "To improve effectiveness in business processes, companies are focussing on collecting and utilizing data. Data analytics companies enable businesses to analyze the acquired data and use them as required. Data analytics services can assist in product development, identifying potential market gaps, improving operational efficiency, etc. [Goodfirms](https://www.goodfirms.co/big-data-analytics/data-analytics)\n",
    "\n",
    "The aim of this project is to scrape Goodfirms website for details about top data analytics company. These details includes, review, rating, year founded, location, etc."
   ]
  },
  {
   "attachments": {},
   "cell_type": "markdown",
   "metadata": {},
   "source": [
    "### Road Map\n",
    "Stage 1\n",
    "* Download page\n",
    "* Open page\n",
    "* Get details\n",
    "* Extract details\n",
    "* Make a dataframe\n",
    "\n",
    "Stage 2 (Code Refactoring)\n",
    "* Change loops to function\n",
    "* Take functions to another file\n",
    "* Import functions and extract\n",
    "* Make a dataframe"
   ]
  },
  {
   "attachments": {},
   "cell_type": "markdown",
   "metadata": {},
   "source": [
    "Libraries"
   ]
  },
  {
   "cell_type": "code",
   "execution_count": 4,
   "metadata": {},
   "outputs": [],
   "source": [
    "import requests as r\n",
    "from bs4 import BeautifulSoup \n",
    "import pandas as pd"
   ]
  },
  {
   "attachments": {},
   "cell_type": "markdown",
   "metadata": {},
   "source": [
    "Accessing webpage"
   ]
  },
  {
   "cell_type": "code",
   "execution_count": null,
   "metadata": {},
   "outputs": [],
   "source": [
    "url = 'https://www.goodfirms.co/big-data-analytics/data-analytics'\n",
    "html = r.get(url)\n",
    "html"
   ]
  },
  {
   "attachments": {},
   "cell_type": "markdown",
   "metadata": {},
   "source": [
    "Saving webpage"
   ]
  },
  {
   "cell_type": "code",
   "execution_count": null,
   "metadata": {},
   "outputs": [],
   "source": [
    "with open('page1.html', mode='wb') as openfile:\n",
    "    openfile.write(html.content)"
   ]
  },
  {
   "attachments": {},
   "cell_type": "markdown",
   "metadata": {},
   "source": [
    "details to extract\n",
    "1. firm name\n",
    "2. firm motor\n",
    "3. firm reviews\n",
    "4. progress value\n",
    "5. firm price\n",
    "6. firm employee\n",
    "7. year founded\n",
    "8. firm location"
   ]
  },
  {
   "cell_type": "code",
   "execution_count": 5,
   "metadata": {},
   "outputs": [],
   "source": [
    "with open('page1.html',encoding='utf-8', mode='r') as file:\n",
    "    bs = BeautifulSoup(file, 'lxml')"
   ]
  },
  {
   "attachments": {},
   "cell_type": "markdown",
   "metadata": {},
   "source": [
    "Extraction"
   ]
  },
  {
   "cell_type": "code",
   "execution_count": 6,
   "metadata": {},
   "outputs": [],
   "source": [
    "firm_name = bs.find_all('span', {'itemprop': 'name'})\n",
    "firm_motor = bs.find_all('p', {'class': 'profile-tagline'})\n",
    "firm_reviews = bs.find_all('span', {'class': 'listinv_review_label'})\n",
    "progress_value = bs.find_all('div', {'class': 'circle-progress-value'})\n",
    "firm_price = bs.find_all('div', {'class': 'firm-pricing'})"
   ]
  },
  {
   "cell_type": "code",
   "execution_count": 7,
   "metadata": {},
   "outputs": [
    {
     "data": {
      "text/plain": [
       "[<span itemprop=\"name\">Home</span>,\n",
       " <span itemprop=\"name\">big data analytics</span>,\n",
       " <span itemprop=\"name\">\n",
       " Data Analytics </span>,\n",
       " <span itemprop=\"name\">SPEC INDIA</span>,\n",
       " <span itemprop=\"name\">instinctools</span>]"
      ]
     },
     "execution_count": 7,
     "metadata": {},
     "output_type": "execute_result"
    }
   ],
   "source": [
    "firm_name[:5]"
   ]
  },
  {
   "attachments": {},
   "cell_type": "markdown",
   "metadata": {},
   "source": [
    "Function to extract details"
   ]
  },
  {
   "cell_type": "code",
   "execution_count": 8,
   "metadata": {},
   "outputs": [],
   "source": [
    "def extrac_details(tag):\n",
    "    lst = []\n",
    "    for each_val in tag:\n",
    "        lst.append(each_val.text)\n",
    "    return pd.Series(lst)\n",
    "        "
   ]
  },
  {
   "cell_type": "code",
   "execution_count": 9,
   "metadata": {},
   "outputs": [
    {
     "data": {
      "text/plain": [
       "0            SPEC INDIA\n",
       "1          instinctools\n",
       "2               SoluLab\n",
       "3    Sigma Data Systems\n",
       "4         NeenOpal Inc.\n",
       "dtype: object"
      ]
     },
     "execution_count": 9,
     "metadata": {},
     "output_type": "execute_result"
    }
   ],
   "source": [
    "nam_sr = extrac_details(firm_name[3:])\n",
    "nam_sr[:5]"
   ]
  },
  {
   "cell_type": "code",
   "execution_count": 10,
   "metadata": {},
   "outputs": [],
   "source": [
    "motor_sr = extrac_details(firm_motor)\n",
    "review_sr = extrac_details(firm_reviews)\n",
    "price_sr = extrac_details(firm_price)"
   ]
  },
  {
   "cell_type": "code",
   "execution_count": 11,
   "metadata": {},
   "outputs": [
    {
     "data": {
      "text/plain": [
       "[<div class=\"circle-progress-value\">20%</div>,\n",
       " <div class=\"circle-progress-value\">15%</div>,\n",
       " <div class=\"circle-progress-value\">5%</div>,\n",
       " <div class=\"circle-progress-value\">10%</div>,\n",
       " <div class=\"circle-progress-value\">15%</div>]"
      ]
     },
     "execution_count": 11,
     "metadata": {},
     "output_type": "execute_result"
    }
   ],
   "source": [
    "progress_value[:5]"
   ]
  },
  {
   "cell_type": "code",
   "execution_count": 12,
   "metadata": {},
   "outputs": [
    {
     "data": {
      "text/plain": [
       "['20%', '5%', '15%', '40%', '25%']"
      ]
     },
     "execution_count": 12,
     "metadata": {},
     "output_type": "execute_result"
    }
   ],
   "source": [
    "ser =[]\n",
    "plt = []\n",
    "for pct in enumerate(progress_value):\n",
    "    if pct[0] % 2 == 0:\n",
    "        ser.append(pct[1].text)\n",
    "    else:\n",
    "        plt.append(pct[1].text)\n",
    "ser[:5]\n",
    "    "
   ]
  },
  {
   "cell_type": "code",
   "execution_count": 13,
   "metadata": {},
   "outputs": [
    {
     "data": {
      "text/plain": [
       "['15%', '10%', '15%', '10%', '10%']"
      ]
     },
     "execution_count": 13,
     "metadata": {},
     "output_type": "execute_result"
    }
   ],
   "source": [
    "plt[:5]"
   ]
  },
  {
   "attachments": {},
   "cell_type": "markdown",
   "metadata": {},
   "source": [
    "Covert details to a dataframe"
   ]
  },
  {
   "cell_type": "code",
   "execution_count": 14,
   "metadata": {},
   "outputs": [],
   "source": [
    "df = pd.DataFrame()"
   ]
  },
  {
   "cell_type": "code",
   "execution_count": 15,
   "metadata": {},
   "outputs": [],
   "source": [
    "df['firm_name'] = nam_sr\n",
    "df['firm_motor'] = motor_sr\n",
    "df['firm_reviews'] = review_sr\n",
    "df['firm_ser_pct(%)'] = ser\n",
    "df['firm_plt_pct(%)'] = plt\n",
    "df['firm_price'] = price_sr\n",
    "    "
   ]
  },
  {
   "cell_type": "code",
   "execution_count": 16,
   "metadata": {},
   "outputs": [
    {
     "data": {
      "text/plain": [
       "51"
      ]
     },
     "execution_count": 16,
     "metadata": {},
     "output_type": "execute_result"
    }
   ],
   "source": [
    "len(df)"
   ]
  },
  {
   "attachments": {},
   "cell_type": "markdown",
   "metadata": {},
   "source": [
    "TASK\n",
    "> Extract the remaing three details, firm emloyee, year founded and firm location.\n",
    "\n",
    "> Download the second page from the web and extract the same details and join it to the previous dataframe.\n",
    "\n",
    "> The least page is 2, but you can do more than two if you want to."
   ]
  }
 ],
 "metadata": {
  "kernelspec": {
   "display_name": "base",
   "language": "python",
   "name": "python3"
  },
  "language_info": {
   "codemirror_mode": {
    "name": "ipython",
    "version": 3
   },
   "file_extension": ".py",
   "mimetype": "text/x-python",
   "name": "python",
   "nbconvert_exporter": "python",
   "pygments_lexer": "ipython3",
   "version": "3.9.12"
  },
  "orig_nbformat": 4,
  "vscode": {
   "interpreter": {
    "hash": "b68a3c467d07aa8b20c71071b0b7606f948be72d30c76b97a14d11803ebfb6c4"
   }
  }
 },
 "nbformat": 4,
 "nbformat_minor": 2
}
